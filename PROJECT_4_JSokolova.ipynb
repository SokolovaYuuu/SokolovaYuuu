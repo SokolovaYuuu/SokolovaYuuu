{
 "cells": [
  {
   "cell_type": "markdown",
   "metadata": {},
   "source": [
    "### Проект N 4\n",
    "## Рекомендательная система\n",
    "\n",
    "### Цель: \n",
    "Подготовить основу рекомендательной системы, с помощью которой можно будет предлагать пользователям \n",
    "интересные курсы и благодаря этому повышать средний чек.\n",
    "\n",
    "### Задачи:\n",
    "- Проанализировать данные с помощью SQL и Python \n",
    "- Подготовить таблицу, содержащую список курсов и по два рекомендованных курса для каждого из них\n",
    "\n",
    "                                                                                                            Соколова Юлия SDA_1031\n"
   ]
  },
  {
   "cell_type": "code",
   "execution_count": 1,
   "metadata": {},
   "outputs": [
    {
     "data": {
      "text/html": [
       "<div>\n",
       "<style scoped>\n",
       "    .dataframe tbody tr th:only-of-type {\n",
       "        vertical-align: middle;\n",
       "    }\n",
       "\n",
       "    .dataframe tbody tr th {\n",
       "        vertical-align: top;\n",
       "    }\n",
       "\n",
       "    .dataframe thead th {\n",
       "        text-align: right;\n",
       "    }\n",
       "</style>\n",
       "<table border=\"1\" class=\"dataframe\">\n",
       "  <thead>\n",
       "    <tr style=\"text-align: right;\">\n",
       "      <th></th>\n",
       "      <th>user_id</th>\n",
       "      <th>resource_id</th>\n",
       "    </tr>\n",
       "  </thead>\n",
       "  <tbody>\n",
       "    <tr>\n",
       "      <th>0</th>\n",
       "      <td>51</td>\n",
       "      <td>516</td>\n",
       "    </tr>\n",
       "    <tr>\n",
       "      <th>1</th>\n",
       "      <td>51</td>\n",
       "      <td>1099</td>\n",
       "    </tr>\n",
       "    <tr>\n",
       "      <th>2</th>\n",
       "      <td>6117</td>\n",
       "      <td>356</td>\n",
       "    </tr>\n",
       "    <tr>\n",
       "      <th>3</th>\n",
       "      <td>6117</td>\n",
       "      <td>357</td>\n",
       "    </tr>\n",
       "    <tr>\n",
       "      <th>4</th>\n",
       "      <td>6117</td>\n",
       "      <td>1125</td>\n",
       "    </tr>\n",
       "  </tbody>\n",
       "</table>\n",
       "</div>"
      ],
      "text/plain": [
       "   user_id  resource_id\n",
       "0       51          516\n",
       "1       51         1099\n",
       "2     6117          356\n",
       "3     6117          357\n",
       "4     6117         1125"
      ]
     },
     "execution_count": 1,
     "metadata": {},
     "output_type": "execute_result"
    }
   ],
   "source": [
    "%matplotlib inline\n",
    "import pandas as pd\n",
    "import numpy as np\n",
    "import itertools\n",
    "from itertools import combinations\n",
    "import collections\n",
    "from collections import Counter\n",
    "import warnings\n",
    "import matplotlib.pyplot as plt\n",
    "import psycopg2\n",
    "import psycopg2.extras \n",
    "import seaborn as sns\n",
    "import random\n",
    "\n",
    "# Подключаемся к базе данных, выгружая из нее только необходимые нам данные, создаем на их основе датасет\n",
    "\n",
    "def getData():\n",
    "    query = '''with more_courses_users as\n",
    "    (\n",
    "    SELECT \n",
    "    DISTINCT user_id\n",
    "    FROM final.carts c \n",
    "    JOIN final.cart_items ci ON c.id=ci.cart_id\n",
    "    WHERE c.state='successful' AND ci.resource_type='Course'\n",
    "    GROUP BY 1\n",
    "    HAVING COUNT (DISTINCT resource_id) > 1\n",
    "    ),\n",
    "\n",
    "    all_purchases as\n",
    "    (\n",
    "    SELECT \n",
    "    DISTINCT user_id,\n",
    "    resource_id\n",
    "    FROM final.carts c \n",
    "    left JOIN final.cart_items ci ON c.id=ci.cart_id\n",
    "    WHERE c.state='successful' AND ci.resource_type='Course'\n",
    "    )\n",
    "    SELECT\n",
    "    *\n",
    "    FROM more_courses_users mcu\n",
    "    JOIN all_purchases ap on mcu.user_id=ap.user_id\n",
    "    '''.format()\n",
    "    conn = psycopg2.connect(\"dbname='skillfactory' user='skillfactory' host='84.201.134.129' password='cCkxxLVrDE8EbvjueeMedPKt' port=5432\")\n",
    "    dict_cur = conn.cursor(cursor_factory=psycopg2.extras.DictCursor)\n",
    "    dict_cur.execute(query)\n",
    "    rows = dict_cur.fetchall()\n",
    "    data = []\n",
    "    for row in rows:\n",
    "        data.append(dict(row))\n",
    "    return data\n",
    "\n",
    "recommendations_df = pd.DataFrame(getData())\n",
    "recommendations_df.head()"
   ]
  },
  {
   "cell_type": "code",
   "execution_count": 2,
   "metadata": {},
   "outputs": [
    {
     "data": {
      "text/html": [
       "<div>\n",
       "<style scoped>\n",
       "    .dataframe tbody tr th:only-of-type {\n",
       "        vertical-align: middle;\n",
       "    }\n",
       "\n",
       "    .dataframe tbody tr th {\n",
       "        vertical-align: top;\n",
       "    }\n",
       "\n",
       "    .dataframe thead th {\n",
       "        text-align: right;\n",
       "    }\n",
       "</style>\n",
       "<table border=\"1\" class=\"dataframe\">\n",
       "  <thead>\n",
       "    <tr style=\"text-align: right;\">\n",
       "      <th></th>\n",
       "      <th>user_id</th>\n",
       "      <th>resource_id</th>\n",
       "    </tr>\n",
       "  </thead>\n",
       "  <tbody>\n",
       "    <tr>\n",
       "      <th>0</th>\n",
       "      <td>51</td>\n",
       "      <td>[516, 1099]</td>\n",
       "    </tr>\n",
       "    <tr>\n",
       "      <th>1</th>\n",
       "      <td>6117</td>\n",
       "      <td>[356, 357, 1125]</td>\n",
       "    </tr>\n",
       "    <tr>\n",
       "      <th>2</th>\n",
       "      <td>10275</td>\n",
       "      <td>[553, 1147]</td>\n",
       "    </tr>\n",
       "    <tr>\n",
       "      <th>3</th>\n",
       "      <td>10457</td>\n",
       "      <td>[361, 1138]</td>\n",
       "    </tr>\n",
       "    <tr>\n",
       "      <th>4</th>\n",
       "      <td>17166</td>\n",
       "      <td>[357, 356]</td>\n",
       "    </tr>\n",
       "  </tbody>\n",
       "</table>\n",
       "</div>"
      ],
      "text/plain": [
       "   user_id       resource_id\n",
       "0       51       [516, 1099]\n",
       "1     6117  [356, 357, 1125]\n",
       "2    10275       [553, 1147]\n",
       "3    10457       [361, 1138]\n",
       "4    17166        [357, 356]"
      ]
     },
     "execution_count": 2,
     "metadata": {},
     "output_type": "execute_result"
    }
   ],
   "source": [
    "# Группируем курсы по юзеру, выводя только уникальных юзеров в первом столбце и все купленные каждым юзером курсы во втором\n",
    "\n",
    "df_grouped = recommendations_df.groupby('user_id')['resource_id'].apply(list).reset_index()\n",
    "df_grouped.head()"
   ]
  },
  {
   "cell_type": "code",
   "execution_count": 3,
   "metadata": {},
   "outputs": [],
   "source": [
    "# Сортируем курсы в порядке возрастания в каждой строке, чтобы вдальнейшем исключить образование зеркальных пары курсов\n",
    "\n",
    "df_grouped['resource_id'] = df_grouped['resource_id'].apply(lambda y: sorted(y))"
   ]
  },
  {
   "cell_type": "code",
   "execution_count": 4,
   "metadata": {},
   "outputs": [
    {
     "data": {
      "text/html": [
       "<div>\n",
       "<style scoped>\n",
       "    .dataframe tbody tr th:only-of-type {\n",
       "        vertical-align: middle;\n",
       "    }\n",
       "\n",
       "    .dataframe tbody tr th {\n",
       "        vertical-align: top;\n",
       "    }\n",
       "\n",
       "    .dataframe thead th {\n",
       "        text-align: right;\n",
       "    }\n",
       "</style>\n",
       "<table border=\"1\" class=\"dataframe\">\n",
       "  <thead>\n",
       "    <tr style=\"text-align: right;\">\n",
       "      <th></th>\n",
       "      <th>user_id</th>\n",
       "      <th>resource_id</th>\n",
       "    </tr>\n",
       "  </thead>\n",
       "  <tbody>\n",
       "    <tr>\n",
       "      <th>0</th>\n",
       "      <td>51</td>\n",
       "      <td>[(516, 1099)]</td>\n",
       "    </tr>\n",
       "    <tr>\n",
       "      <th>1</th>\n",
       "      <td>6117</td>\n",
       "      <td>[(356, 357), (356, 1125), (357, 1125)]</td>\n",
       "    </tr>\n",
       "    <tr>\n",
       "      <th>2</th>\n",
       "      <td>10275</td>\n",
       "      <td>[(553, 1147)]</td>\n",
       "    </tr>\n",
       "    <tr>\n",
       "      <th>3</th>\n",
       "      <td>10457</td>\n",
       "      <td>[(361, 1138)]</td>\n",
       "    </tr>\n",
       "    <tr>\n",
       "      <th>4</th>\n",
       "      <td>17166</td>\n",
       "      <td>[(356, 357)]</td>\n",
       "    </tr>\n",
       "  </tbody>\n",
       "</table>\n",
       "</div>"
      ],
      "text/plain": [
       "   user_id                             resource_id\n",
       "0       51                           [(516, 1099)]\n",
       "1     6117  [(356, 357), (356, 1125), (357, 1125)]\n",
       "2    10275                           [(553, 1147)]\n",
       "3    10457                           [(361, 1138)]\n",
       "4    17166                            [(356, 357)]"
      ]
     },
     "execution_count": 4,
     "metadata": {},
     "output_type": "execute_result"
    }
   ],
   "source": [
    "# Объединяем курсы внутри каждой строки в пары, при этом каждый курс образует отдельную пару с каждым следующим курсом в строке\n",
    "\n",
    "df_grouped['resource_id'] = df_grouped['resource_id'].apply(lambda x: list(itertools.combinations(x,2)))\n",
    "df_grouped.head()"
   ]
  },
  {
   "cell_type": "code",
   "execution_count": 5,
   "metadata": {},
   "outputs": [
    {
     "name": "stdout",
     "output_type": "stream",
     "text": [
      "3989\n"
     ]
    }
   ],
   "source": [
    "# Создаем множество пар для подсчета количества уникальных пар\n",
    "\n",
    "set_of_pairs = set()\n",
    "for courses in df_grouped['resource_id']:\n",
    "    for e in courses:\n",
    "        set_of_pairs.add(e)\n",
    "\n",
    "print(len(set_of_pairs))"
   ]
  },
  {
   "cell_type": "code",
   "execution_count": 6,
   "metadata": {},
   "outputs": [
    {
     "data": {
      "text/html": [
       "<div>\n",
       "<style scoped>\n",
       "    .dataframe tbody tr th:only-of-type {\n",
       "        vertical-align: middle;\n",
       "    }\n",
       "\n",
       "    .dataframe tbody tr th {\n",
       "        vertical-align: top;\n",
       "    }\n",
       "\n",
       "    .dataframe thead th {\n",
       "        text-align: right;\n",
       "    }\n",
       "</style>\n",
       "<table border=\"1\" class=\"dataframe\">\n",
       "  <thead>\n",
       "    <tr style=\"text-align: right;\">\n",
       "      <th></th>\n",
       "      <th>pairs</th>\n",
       "      <th>count</th>\n",
       "    </tr>\n",
       "  </thead>\n",
       "  <tbody>\n",
       "    <tr>\n",
       "      <th>0</th>\n",
       "      <td>(516, 1099)</td>\n",
       "      <td>25</td>\n",
       "    </tr>\n",
       "    <tr>\n",
       "      <th>1</th>\n",
       "      <td>(356, 357)</td>\n",
       "      <td>100</td>\n",
       "    </tr>\n",
       "    <tr>\n",
       "      <th>2</th>\n",
       "      <td>(356, 1125)</td>\n",
       "      <td>44</td>\n",
       "    </tr>\n",
       "    <tr>\n",
       "      <th>3</th>\n",
       "      <td>(357, 1125)</td>\n",
       "      <td>52</td>\n",
       "    </tr>\n",
       "    <tr>\n",
       "      <th>4</th>\n",
       "      <td>(553, 1147)</td>\n",
       "      <td>16</td>\n",
       "    </tr>\n",
       "  </tbody>\n",
       "</table>\n",
       "</div>"
      ],
      "text/plain": [
       "         pairs  count\n",
       "0  (516, 1099)     25\n",
       "1   (356, 357)    100\n",
       "2  (356, 1125)     44\n",
       "3  (357, 1125)     52\n",
       "4  (553, 1147)     16"
      ]
     },
     "execution_count": 6,
     "metadata": {},
     "output_type": "execute_result"
    }
   ],
   "source": [
    "# Аналогичным образом формируем список пар, а из него словарь, возвращающий уникальные пары курсов в качестве ключей \n",
    "# и количество их покупок в качестве значений \n",
    "\n",
    "list_of_pairs = []\n",
    "for courses in df_grouped['resource_id']:\n",
    "    for e in courses:\n",
    "        list_of_pairs.append(e)\n",
    "\n",
    "courses_count = Counter(list_of_pairs)\n",
    "\n",
    "# Из словаря формируем датасет\n",
    "\n",
    "courses_count_df = pd.DataFrame(list(courses_count.items()), columns=['pairs','count'])\n",
    "courses_count_df.head()"
   ]
  },
  {
   "cell_type": "code",
   "execution_count": 7,
   "metadata": {},
   "outputs": [
    {
     "data": {
      "text/plain": [
       "5.0"
      ]
     },
     "execution_count": 7,
     "metadata": {},
     "output_type": "execute_result"
    }
   ],
   "source": [
    "# Определяем минимальную частоту покупки пар курсов как 60% от покупок всех пар курсов. \n",
    "# При выборе 50% от всех курсов минимальная граница составила 3 совместных покупки, что является слишком низкой границей \n",
    "# и повышает риск того, что курсы не имеют ничего общего и были куплены вместе из-за индивидуальных потребносте юзера\n",
    "\n",
    "min_freq = np.percentile(courses_count_df['count'],60)\n",
    "min_freq"
   ]
  },
  {
   "cell_type": "code",
   "execution_count": 8,
   "metadata": {},
   "outputs": [
    {
     "data": {
      "text/plain": [
       "[((517, 551), 52), ((517, 750), 34)]"
      ]
     },
     "execution_count": 8,
     "metadata": {},
     "output_type": "execute_result"
    }
   ],
   "source": [
    "# Пишем функцию, аргументом которой является id курса, при вводе которого функция возвращает 2 рекомендации, \n",
    "# каждая из которых содержит id самого курса, id рекомендуемого курса и частоту совместной покупки, рекомендации возвращаются в порядке убывания частоты\n",
    "\n",
    "def course_recommendation(course_id):\n",
    "    rec_list=[]\n",
    "    for i in courses_count.keys():\n",
    "        if i[0] == course_id:\n",
    "            rec_list.append((i, courses_count[i]))\n",
    "        if i[1] == course_id:\n",
    "            rec_list.append((i, courses_count[i]))\n",
    "    rec_list = sorted(rec_list, key=lambda x: x[1],  reverse=True)\n",
    "    return rec_list[:2]\n",
    "        \n",
    "# Проверяем работу рекомендательной функции \n",
    "course_recommendation(517)"
   ]
  },
  {
   "cell_type": "code",
   "execution_count": 9,
   "metadata": {},
   "outputs": [
    {
     "name": "stdout",
     "output_type": "stream",
     "text": [
      "126\n"
     ]
    }
   ],
   "source": [
    "# Создаем множество с перечислением уникальных курсов\n",
    "\n",
    "set_of_courses = set(recommendations_df['resource_id'])\n",
    "print(len(set_of_courses))"
   ]
  },
  {
   "cell_type": "code",
   "execution_count": 10,
   "metadata": {},
   "outputs": [],
   "source": [
    "# Для курсов, которые продавались в паре с другими курсами менее 5 раз создаем переменную, \n",
    "# в которой каждый раз будет выбираться случайный курс из списка всех курсов\n",
    "\n",
    "random_course = random.choice(list(set_of_courses))"
   ]
  },
  {
   "cell_type": "markdown",
   "metadata": {},
   "source": [
    "*Если курс редко покупался в паре с любыми другими курсами, то скорее всего этот курс не связан тематически с другими курсами на платформе, или достаточно полноценный и полностью покрывает потребности юзера. Либо наоборот - пользователи не были удовлетворены материалами курса и у них не возникало желания приобретать дальнейшие курсы. Чтобы узнать, соответствует ли какая либо из этих гипотез действительности, можно проанализировать насколько часто пользователи проходят до конца курсы, которые покупались редко в паре с другими курсами*"
   ]
  },
  {
   "cell_type": "code",
   "execution_count": 11,
   "metadata": {},
   "outputs": [
    {
     "name": "stdout",
     "output_type": "stream",
     "text": [
      "<class 'pandas.core.frame.DataFrame'>\n",
      "Index: 126 entries, 513 to 511\n",
      "Data columns (total 2 columns):\n",
      " #   Column  Non-Null Count  Dtype\n",
      "---  ------  --------------  -----\n",
      " 0   rec_1   126 non-null    int64\n",
      " 1   rec_2   126 non-null    int64\n",
      "dtypes: int64(2)\n",
      "memory usage: 3.0 KB\n"
     ]
    }
   ],
   "source": [
    "# Создаем финальную таблицу, в которой в качестве индексов указаны уникальные id курсов, \n",
    "# в первом столбце самая частая пара для этого курса, а во втором - вторая по частоте пара, \n",
    "# а для курсов, для которых рекомендаций слишком мало, указаны рандомные курсы  \n",
    "\n",
    "recommendation_list = []\n",
    "rec_df = pd.DataFrame(recommendation_list, columns=['rec_1', 'rec_2'])\n",
    "for course_id in set_of_courses:\n",
    "    rec1 = None\n",
    "    rec2 = None\n",
    "    if course_recommendation(course_id)[0][1] >= min_freq:\n",
    "        rec1 = (set(course_recommendation(course_id)[0][0]) - set([course_id])).pop()\n",
    "    if course_recommendation(course_id)[1][1] >= min_freq:\n",
    "        rec2 = (set(course_recommendation(course_id)[1][0]) - set([course_id])).pop()\n",
    "    if course_recommendation(course_id)[0][1] <= min_freq:\n",
    "        rec1 = random_course\n",
    "    if course_recommendation(course_id)[1][1] <= min_freq:\n",
    "        rec2 = random_course\n",
    "    rec_df.loc[course_id] = [rec1,rec2]\n",
    "\n",
    "# Проверяем, для каждого ли курса из списка есть рекомендация     \n",
    "rec_df.info()"
   ]
  },
  {
   "cell_type": "code",
   "execution_count": 12,
   "metadata": {},
   "outputs": [
    {
     "data": {
      "text/html": [
       "<div>\n",
       "<style scoped>\n",
       "    .dataframe tbody tr th:only-of-type {\n",
       "        vertical-align: middle;\n",
       "    }\n",
       "\n",
       "    .dataframe tbody tr th {\n",
       "        vertical-align: top;\n",
       "    }\n",
       "\n",
       "    .dataframe thead th {\n",
       "        text-align: right;\n",
       "    }\n",
       "</style>\n",
       "<table border=\"1\" class=\"dataframe\">\n",
       "  <thead>\n",
       "    <tr style=\"text-align: right;\">\n",
       "      <th></th>\n",
       "      <th>rec_1</th>\n",
       "      <th>rec_2</th>\n",
       "    </tr>\n",
       "  </thead>\n",
       "  <tbody>\n",
       "    <tr>\n",
       "      <th>513</th>\n",
       "      <td>503</td>\n",
       "      <td>551</td>\n",
       "    </tr>\n",
       "    <tr>\n",
       "      <th>514</th>\n",
       "      <td>551</td>\n",
       "      <td>515</td>\n",
       "    </tr>\n",
       "    <tr>\n",
       "      <th>515</th>\n",
       "      <td>551</td>\n",
       "      <td>489</td>\n",
       "    </tr>\n",
       "    <tr>\n",
       "      <th>516</th>\n",
       "      <td>745</td>\n",
       "      <td>553</td>\n",
       "    </tr>\n",
       "    <tr>\n",
       "      <th>517</th>\n",
       "      <td>551</td>\n",
       "      <td>750</td>\n",
       "    </tr>\n",
       "  </tbody>\n",
       "</table>\n",
       "</div>"
      ],
      "text/plain": [
       "     rec_1  rec_2\n",
       "513    503    551\n",
       "514    551    515\n",
       "515    551    489\n",
       "516    745    553\n",
       "517    551    750"
      ]
     },
     "execution_count": 12,
     "metadata": {},
     "output_type": "execute_result"
    }
   ],
   "source": [
    "rec_df.head()"
   ]
  },
  {
   "cell_type": "markdown",
   "metadata": {},
   "source": [
    "#### Выводы\n",
    "*Если посмотреть на процентное соотношение курсов, которые покупались в паре с другими курсами, то можно увидеть, что половина курсов покупалась меньше, чем 3 раза в паре с какими-либо другими курсами. Вероятно у этих курсов нет тематической связи с другими курсами или они самодостаточные. Стоит обратить внимание на эти курсы. Если в целом у них мало продаж, то возможно стоит их актуализировать. Если с продажами таких курсов нет проблем, то возможно стоит рассмотреть создание курсов, близких по тематике. Так же стоит проанализировать поведение пользователей, покупающих такие курсы. Возможно эти курсы достаточно объемные и сложные для восприятия и поэтому занимают много времени у пользователей и в целом являются более продолжительными, длительное время не позволяя пользователям заниматься дополнительными курсами.\n",
    "Помимо того есть вероятность, что \"популярные\" курсы сами по себе непродолжительные и достаточно простые, поэтому к ним в дополнение юзеры покупают подобные курсы. Для дальнейшего анализа необходима дополнительная информация о содержании, продолжительности курсов и успешности прохождения их юзерами.*"
   ]
  }
 ],
 "metadata": {
  "kernelspec": {
   "display_name": "Python 3",
   "language": "python",
   "name": "python3"
  },
  "language_info": {
   "codemirror_mode": {
    "name": "ipython",
    "version": 3
   },
   "file_extension": ".py",
   "mimetype": "text/x-python",
   "name": "python",
   "nbconvert_exporter": "python",
   "pygments_lexer": "ipython3",
   "version": "3.10.9"
  }
 },
 "nbformat": 4,
 "nbformat_minor": 2
}
