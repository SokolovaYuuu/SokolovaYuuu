{
 "cells": [
  {
   "cell_type": "markdown",
   "metadata": {},
   "source": [
    "### Project N 4\n",
    "## Recommendation system\n",
    "\n",
    "### Goal: \n",
    "To prepare the basis of a recommendation system, \n",
    "with the help of which it will be possible to offer interesting courses to users and thereby increase the average check.\n",
    "\n",
    "### Tasks:\n",
    "- Analyze data using SQL and Python \n",
    "- Prepare a table containing a list of courses and two recommended courses for each of them\n",
    "\n",
    "\n"
   ]
  },
  {
   "cell_type": "code",
   "execution_count": 1,
   "metadata": {},
   "outputs": [
    {
     "data": {
      "text/html": [
       "<div>\n",
       "<style scoped>\n",
       "    .dataframe tbody tr th:only-of-type {\n",
       "        vertical-align: middle;\n",
       "    }\n",
       "\n",
       "    .dataframe tbody tr th {\n",
       "        vertical-align: top;\n",
       "    }\n",
       "\n",
       "    .dataframe thead th {\n",
       "        text-align: right;\n",
       "    }\n",
       "</style>\n",
       "<table border=\"1\" class=\"dataframe\">\n",
       "  <thead>\n",
       "    <tr style=\"text-align: right;\">\n",
       "      <th></th>\n",
       "      <th>user_id</th>\n",
       "      <th>resource_id</th>\n",
       "    </tr>\n",
       "  </thead>\n",
       "  <tbody>\n",
       "    <tr>\n",
       "      <th>0</th>\n",
       "      <td>51</td>\n",
       "      <td>516</td>\n",
       "    </tr>\n",
       "    <tr>\n",
       "      <th>1</th>\n",
       "      <td>51</td>\n",
       "      <td>1099</td>\n",
       "    </tr>\n",
       "    <tr>\n",
       "      <th>2</th>\n",
       "      <td>6117</td>\n",
       "      <td>356</td>\n",
       "    </tr>\n",
       "    <tr>\n",
       "      <th>3</th>\n",
       "      <td>6117</td>\n",
       "      <td>357</td>\n",
       "    </tr>\n",
       "    <tr>\n",
       "      <th>4</th>\n",
       "      <td>6117</td>\n",
       "      <td>1125</td>\n",
       "    </tr>\n",
       "  </tbody>\n",
       "</table>\n",
       "</div>"
      ],
      "text/plain": [
       "   user_id  resource_id\n",
       "0       51          516\n",
       "1       51         1099\n",
       "2     6117          356\n",
       "3     6117          357\n",
       "4     6117         1125"
      ]
     },
     "execution_count": 1,
     "metadata": {},
     "output_type": "execute_result"
    }
   ],
   "source": [
    "%matplotlib inline\n",
    "import pandas as pd\n",
    "import numpy as np\n",
    "import itertools\n",
    "from itertools import combinations\n",
    "import collections\n",
    "from collections import Counter\n",
    "import psycopg2\n",
    "import psycopg2.extras \n",
    "import random\n",
    "\n",
    "recommendations_df = pd.read_csv('data/query_result.csv')\n",
    "recommendations_df.head()"
   ]
  },
  {
   "cell_type": "code",
   "execution_count": 2,
   "metadata": {},
   "outputs": [
    {
     "data": {
      "text/html": [
       "<div>\n",
       "<style scoped>\n",
       "    .dataframe tbody tr th:only-of-type {\n",
       "        vertical-align: middle;\n",
       "    }\n",
       "\n",
       "    .dataframe tbody tr th {\n",
       "        vertical-align: top;\n",
       "    }\n",
       "\n",
       "    .dataframe thead th {\n",
       "        text-align: right;\n",
       "    }\n",
       "</style>\n",
       "<table border=\"1\" class=\"dataframe\">\n",
       "  <thead>\n",
       "    <tr style=\"text-align: right;\">\n",
       "      <th></th>\n",
       "      <th>user_id</th>\n",
       "      <th>resource_id</th>\n",
       "    </tr>\n",
       "  </thead>\n",
       "  <tbody>\n",
       "    <tr>\n",
       "      <th>0</th>\n",
       "      <td>51</td>\n",
       "      <td>[516, 1099]</td>\n",
       "    </tr>\n",
       "    <tr>\n",
       "      <th>1</th>\n",
       "      <td>6117</td>\n",
       "      <td>[356, 357, 1125]</td>\n",
       "    </tr>\n",
       "    <tr>\n",
       "      <th>2</th>\n",
       "      <td>10275</td>\n",
       "      <td>[553, 1147]</td>\n",
       "    </tr>\n",
       "    <tr>\n",
       "      <th>3</th>\n",
       "      <td>10457</td>\n",
       "      <td>[361, 1138]</td>\n",
       "    </tr>\n",
       "    <tr>\n",
       "      <th>4</th>\n",
       "      <td>17166</td>\n",
       "      <td>[357, 356]</td>\n",
       "    </tr>\n",
       "  </tbody>\n",
       "</table>\n",
       "</div>"
      ],
      "text/plain": [
       "   user_id       resource_id\n",
       "0       51       [516, 1099]\n",
       "1     6117  [356, 357, 1125]\n",
       "2    10275       [553, 1147]\n",
       "3    10457       [361, 1138]\n",
       "4    17166        [357, 356]"
      ]
     },
     "execution_count": 2,
     "metadata": {},
     "output_type": "execute_result"
    }
   ],
   "source": [
    "# Group courses by user, displaying only unique users in the first column and all courses purchased by each user in the second\n",
    "\n",
    "df_grouped = recommendations_df.groupby('user_id')['resource_id'].apply(list).reset_index()\n",
    "df_grouped.head()"
   ]
  },
  {
   "cell_type": "code",
   "execution_count": 3,
   "metadata": {},
   "outputs": [],
   "source": [
    "# Sort the courses in ascending order in each row in order to exclude the formation of mirror pairs of courses in the future\n",
    "\n",
    "df_grouped['resource_id'] = df_grouped['resource_id'].apply(lambda y: sorted(y))"
   ]
  },
  {
   "cell_type": "code",
   "execution_count": 4,
   "metadata": {},
   "outputs": [
    {
     "data": {
      "text/html": [
       "<div>\n",
       "<style scoped>\n",
       "    .dataframe tbody tr th:only-of-type {\n",
       "        vertical-align: middle;\n",
       "    }\n",
       "\n",
       "    .dataframe tbody tr th {\n",
       "        vertical-align: top;\n",
       "    }\n",
       "\n",
       "    .dataframe thead th {\n",
       "        text-align: right;\n",
       "    }\n",
       "</style>\n",
       "<table border=\"1\" class=\"dataframe\">\n",
       "  <thead>\n",
       "    <tr style=\"text-align: right;\">\n",
       "      <th></th>\n",
       "      <th>user_id</th>\n",
       "      <th>resource_id</th>\n",
       "    </tr>\n",
       "  </thead>\n",
       "  <tbody>\n",
       "    <tr>\n",
       "      <th>0</th>\n",
       "      <td>51</td>\n",
       "      <td>[(516, 1099)]</td>\n",
       "    </tr>\n",
       "    <tr>\n",
       "      <th>1</th>\n",
       "      <td>6117</td>\n",
       "      <td>[(356, 357), (356, 1125), (357, 1125)]</td>\n",
       "    </tr>\n",
       "    <tr>\n",
       "      <th>2</th>\n",
       "      <td>10275</td>\n",
       "      <td>[(553, 1147)]</td>\n",
       "    </tr>\n",
       "    <tr>\n",
       "      <th>3</th>\n",
       "      <td>10457</td>\n",
       "      <td>[(361, 1138)]</td>\n",
       "    </tr>\n",
       "    <tr>\n",
       "      <th>4</th>\n",
       "      <td>17166</td>\n",
       "      <td>[(356, 357)]</td>\n",
       "    </tr>\n",
       "  </tbody>\n",
       "</table>\n",
       "</div>"
      ],
      "text/plain": [
       "   user_id                             resource_id\n",
       "0       51                           [(516, 1099)]\n",
       "1     6117  [(356, 357), (356, 1125), (357, 1125)]\n",
       "2    10275                           [(553, 1147)]\n",
       "3    10457                           [(361, 1138)]\n",
       "4    17166                            [(356, 357)]"
      ]
     },
     "execution_count": 4,
     "metadata": {},
     "output_type": "execute_result"
    }
   ],
   "source": [
    "# Combine the courses inside each row into pairs, while each course forms a separate pair with each subsequent course in the row\n",
    "\n",
    "df_grouped['resource_id'] = df_grouped['resource_id'].apply(lambda x: list(itertools.combinations(x,2)))\n",
    "df_grouped.head()"
   ]
  },
  {
   "cell_type": "code",
   "execution_count": 5,
   "metadata": {},
   "outputs": [
    {
     "name": "stdout",
     "output_type": "stream",
     "text": [
      "3989\n"
     ]
    }
   ],
   "source": [
    "# Create a set of pairs to count the number of unique pairs\n",
    "\n",
    "set_of_pairs = set()\n",
    "for courses in df_grouped['resource_id']:\n",
    "    for e in courses:\n",
    "        set_of_pairs.add(e)\n",
    "\n",
    "print(len(set_of_pairs))"
   ]
  },
  {
   "cell_type": "code",
   "execution_count": 6,
   "metadata": {},
   "outputs": [
    {
     "data": {
      "text/html": [
       "<div>\n",
       "<style scoped>\n",
       "    .dataframe tbody tr th:only-of-type {\n",
       "        vertical-align: middle;\n",
       "    }\n",
       "\n",
       "    .dataframe tbody tr th {\n",
       "        vertical-align: top;\n",
       "    }\n",
       "\n",
       "    .dataframe thead th {\n",
       "        text-align: right;\n",
       "    }\n",
       "</style>\n",
       "<table border=\"1\" class=\"dataframe\">\n",
       "  <thead>\n",
       "    <tr style=\"text-align: right;\">\n",
       "      <th></th>\n",
       "      <th>pairs</th>\n",
       "      <th>count</th>\n",
       "    </tr>\n",
       "  </thead>\n",
       "  <tbody>\n",
       "    <tr>\n",
       "      <th>0</th>\n",
       "      <td>(516, 1099)</td>\n",
       "      <td>25</td>\n",
       "    </tr>\n",
       "    <tr>\n",
       "      <th>1</th>\n",
       "      <td>(356, 357)</td>\n",
       "      <td>100</td>\n",
       "    </tr>\n",
       "    <tr>\n",
       "      <th>2</th>\n",
       "      <td>(356, 1125)</td>\n",
       "      <td>44</td>\n",
       "    </tr>\n",
       "    <tr>\n",
       "      <th>3</th>\n",
       "      <td>(357, 1125)</td>\n",
       "      <td>52</td>\n",
       "    </tr>\n",
       "    <tr>\n",
       "      <th>4</th>\n",
       "      <td>(553, 1147)</td>\n",
       "      <td>16</td>\n",
       "    </tr>\n",
       "  </tbody>\n",
       "</table>\n",
       "</div>"
      ],
      "text/plain": [
       "         pairs  count\n",
       "0  (516, 1099)     25\n",
       "1   (356, 357)    100\n",
       "2  (356, 1125)     44\n",
       "3  (357, 1125)     52\n",
       "4  (553, 1147)     16"
      ]
     },
     "execution_count": 6,
     "metadata": {},
     "output_type": "execute_result"
    }
   ],
   "source": [
    "# form a list of pairs, and from it a dictionary that returns unique pairs of courses as keys and the number of their purchases as values \n",
    "\n",
    "list_of_pairs = []\n",
    "for courses in df_grouped['resource_id']:\n",
    "    for e in courses:\n",
    "        list_of_pairs.append(e)\n",
    "\n",
    "courses_count = Counter(list_of_pairs)\n",
    "\n",
    "# Form a dataset from the dictionary\n",
    "\n",
    "courses_count_df = pd.DataFrame(list(courses_count.items()), columns=['pairs','count'])\n",
    "courses_count_df.head()"
   ]
  },
  {
   "cell_type": "code",
   "execution_count": 7,
   "metadata": {},
   "outputs": [
    {
     "data": {
      "text/plain": [
       "5.0"
      ]
     },
     "execution_count": 7,
     "metadata": {},
     "output_type": "execute_result"
    }
   ],
   "source": [
    "# Define the minimum frequency of buying pairs of courses as 60% of the purchases of all pairs of courses. \n",
    "# When choosing 50% of all courses, the minimum limit was 3 joint purchases, which is too low a limit \n",
    "# and increases the risk that the courses have nothing in common and were bought together due to the individual needs of the user \n",
    "\n",
    "min_freq = np.percentile(courses_count_df['count'],60)\n",
    "min_freq"
   ]
  },
  {
   "cell_type": "code",
   "execution_count": 8,
   "metadata": {},
   "outputs": [
    {
     "data": {
      "text/plain": [
       "[((517, 551), 52), ((517, 750), 34)]"
      ]
     },
     "execution_count": 8,
     "metadata": {},
     "output_type": "execute_result"
    }
   ],
   "source": [
    "# Write a function whose argument is the id of the course, when entered, the function returns 2 recommendations, , \n",
    "# each of which contains the id of the course itself, the id of the recommended course and the frequency of joint purchase, recommendations are returned in descending order of frequency\n",
    "\n",
    "def course_recommendation(course_id):\n",
    "    rec_list=[]\n",
    "    for i in courses_count.keys():\n",
    "        if i[0] == course_id:\n",
    "            rec_list.append((i, courses_count[i]))\n",
    "        if i[1] == course_id:\n",
    "            rec_list.append((i, courses_count[i]))\n",
    "    rec_list = sorted(rec_list, key=lambda x: x[1],  reverse=True)\n",
    "    return rec_list[:2]\n",
    "        \n",
    "# Checking the operation of the recommendation function \n",
    "course_recommendation(517)"
   ]
  },
  {
   "cell_type": "code",
   "execution_count": 9,
   "metadata": {},
   "outputs": [
    {
     "name": "stdout",
     "output_type": "stream",
     "text": [
      "126\n"
     ]
    }
   ],
   "source": [
    "# Creating a set with a list of unique courses\n",
    "\n",
    "set_of_courses = set(recommendations_df['resource_id'])\n",
    "print(len(set_of_courses))"
   ]
  },
  {
   "cell_type": "code",
   "execution_count": 10,
   "metadata": {},
   "outputs": [],
   "source": [
    "# For courses that have been sold in pairs with other courses less than 5 times,  \n",
    "# create a variable in which a random course will be selected from the list of all courses each time \n",
    "\n",
    "random_course = random.choice(list(set_of_courses))"
   ]
  },
  {
   "cell_type": "markdown",
   "metadata": {},
   "source": [
    "*If the course was rarely bought in conjunction with any other courses, then most likely this course is not thematically related to other courses on the platform, or is quite complete and fully covers the needs of the user. Or vice versa - users were not satisfied with the course materials and they had no desire to purchase further courses. To find out if any of these hypotheses correspond to reality, you can analyze how often users complete courses that were rarely bought in conjunction with other courses.*"
   ]
  },
  {
   "cell_type": "code",
   "execution_count": 11,
   "metadata": {},
   "outputs": [
    {
     "name": "stdout",
     "output_type": "stream",
     "text": [
      "<class 'pandas.core.frame.DataFrame'>\n",
      "Index: 126 entries, 513 to 511\n",
      "Data columns (total 2 columns):\n",
      " #   Column  Non-Null Count  Dtype\n",
      "---  ------  --------------  -----\n",
      " 0   rec_1   126 non-null    int64\n",
      " 1   rec_2   126 non-null    int64\n",
      "dtypes: int64(2)\n",
      "memory usage: 3.0 KB\n"
     ]
    }
   ],
   "source": [
    "# Create a final table in which unique course ids are indicated as indexes, \n",
    "# in the first column the most frequent pair for this course, and in the second - the second most frequent pair, \n",
    "# and for courses for which there are too few recommendations, random courses are indicated  \n",
    "\n",
    "recommendation_list = []\n",
    "rec_df = pd.DataFrame(recommendation_list, columns=['rec_1', 'rec_2'])\n",
    "for course_id in set_of_courses:\n",
    "    rec1 = None\n",
    "    rec2 = None\n",
    "    if course_recommendation(course_id)[0][1] >= min_freq:\n",
    "        rec1 = (set(course_recommendation(course_id)[0][0]) - set([course_id])).pop()\n",
    "    if course_recommendation(course_id)[1][1] >= min_freq:\n",
    "        rec2 = (set(course_recommendation(course_id)[1][0]) - set([course_id])).pop()\n",
    "    if course_recommendation(course_id)[0][1] <= min_freq:\n",
    "        rec1 = random_course\n",
    "    if course_recommendation(course_id)[1][1] <= min_freq:\n",
    "        rec2 = random_course\n",
    "    rec_df.loc[course_id] = [rec1,rec2]\n",
    "\n",
    "# Check whether there is a recommendation for each course from the list    \n",
    "rec_df.info()"
   ]
  },
  {
   "cell_type": "code",
   "execution_count": 12,
   "metadata": {},
   "outputs": [
    {
     "data": {
      "text/html": [
       "<div>\n",
       "<style scoped>\n",
       "    .dataframe tbody tr th:only-of-type {\n",
       "        vertical-align: middle;\n",
       "    }\n",
       "\n",
       "    .dataframe tbody tr th {\n",
       "        vertical-align: top;\n",
       "    }\n",
       "\n",
       "    .dataframe thead th {\n",
       "        text-align: right;\n",
       "    }\n",
       "</style>\n",
       "<table border=\"1\" class=\"dataframe\">\n",
       "  <thead>\n",
       "    <tr style=\"text-align: right;\">\n",
       "      <th></th>\n",
       "      <th>rec_1</th>\n",
       "      <th>rec_2</th>\n",
       "    </tr>\n",
       "  </thead>\n",
       "  <tbody>\n",
       "    <tr>\n",
       "      <th>513</th>\n",
       "      <td>503</td>\n",
       "      <td>551</td>\n",
       "    </tr>\n",
       "    <tr>\n",
       "      <th>514</th>\n",
       "      <td>551</td>\n",
       "      <td>515</td>\n",
       "    </tr>\n",
       "    <tr>\n",
       "      <th>515</th>\n",
       "      <td>551</td>\n",
       "      <td>489</td>\n",
       "    </tr>\n",
       "    <tr>\n",
       "      <th>516</th>\n",
       "      <td>745</td>\n",
       "      <td>553</td>\n",
       "    </tr>\n",
       "    <tr>\n",
       "      <th>517</th>\n",
       "      <td>551</td>\n",
       "      <td>750</td>\n",
       "    </tr>\n",
       "  </tbody>\n",
       "</table>\n",
       "</div>"
      ],
      "text/plain": [
       "     rec_1  rec_2\n",
       "513    503    551\n",
       "514    551    515\n",
       "515    551    489\n",
       "516    745    553\n",
       "517    551    750"
      ]
     },
     "execution_count": 12,
     "metadata": {},
     "output_type": "execute_result"
    }
   ],
   "source": [
    "rec_df.head()"
   ]
  },
  {
   "cell_type": "markdown",
   "metadata": {},
   "source": [
    "#### Conclusions\n",
    "*If you look at the percentage of courses that were bought in pairs with other courses, you can see that half of the courses were bought less than 3 times in pairs with any other courses. Probably these courses have no thematic connection with other courses, or they are self-sufficient. It is worth paying attention to these courses. If in general they have few sales, then it may be worth updating them. If there are no problems with the sales of such courses, then it may be worth considering creating courses that are similar in subject. It is also worth analyzing the behavior of users who buy such courses. Perhaps these courses are quite voluminous and difficult to understand and therefore take a lot of time for users and are generally longer, not allowing users to take additional courses for a long time. In addition, there is a possibility that popular courses themselves are short and quite simple, so in addition to them, users buy similar courses. For further analysis, additional information is needed about the content, duration of the courses and the success of their completion by users.*"
   ]
  }
 ],
 "metadata": {
  "kernelspec": {
   "display_name": "Python 3",
   "language": "python",
   "name": "python3"
  },
  "language_info": {
   "codemirror_mode": {
    "name": "ipython",
    "version": 3
   },
   "file_extension": ".py",
   "mimetype": "text/x-python",
   "name": "python",
   "nbconvert_exporter": "python",
   "pygments_lexer": "ipython3",
   "version": "3.10.9"
  }
 },
 "nbformat": 4,
 "nbformat_minor": 2
}
